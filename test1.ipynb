{
 "cells": [
  {
   "cell_type": "code",
   "execution_count": 220,
   "metadata": {},
   "outputs": [],
   "source": [
    "import torch"
   ]
  },
  {
   "cell_type": "code",
   "execution_count": 221,
   "metadata": {},
   "outputs": [],
   "source": [
    "theta_min = -90.0\n",
    "theta_max = 90.0\n",
    "(l, delta, theta_0) = (1, 360, 0)\n",
    "d = l/2\n",
    "G = 5\n",
    "NP = 5\n",
    "m = 2\n",
    "n = 3\n",
    "L = 8\n",
    "Pc = 0.8\n",
    "Pm = 0.050"
   ]
  },
  {
   "cell_type": "code",
   "execution_count": null,
   "metadata": {},
   "outputs": [],
   "source": [
    "dna = torch.randint(0, 2, (NP, m, n, L)).to(dtype=torch.float)\n",
    "print(dna[0])\n",
    "a = dna.reshape(NP, L).t()\n",
    "print(a[:, 0])\n",
    "\n",
    "print(a.reshape(L, 1, NP)[:, :, 0].shape)"
   ]
  },
  {
   "cell_type": "code",
   "execution_count": null,
   "metadata": {},
   "outputs": [],
   "source": [
    "M = dna.shape[3]\n",
    "ex = torch.complex(dna.reshape(NP, M, 1), torch.zeros((NP, M, 1)))\n",
    "k = 2*torch.pi/l\n",
    "\n",
    "theta_0 = torch.tensor(theta_0)*torch.pi/180\n",
    "theta = torch.linspace(-torch.pi/2, torch.pi/2, delta)\n",
    "\n",
    "phi = (torch.sin(theta)-torch.sin(theta_0)).reshape(delta, 1)\n",
    "phi = torch.matmul(phi, torch.ones(1, M))\n",
    "\n",
    "nd = k*d*torch.arange(0, M).reshape(1, M)\n",
    "nd = torch.matmul(torch.ones(delta, 1), nd)\n",
    "\n",
    "phi = torch.exp(torch.complex(torch.zeros((delta, M)), phi*nd))\n",
    "F = torch.matmul(phi, ex).abs().reshape(delta,)\n",
    "Fdb = 20*torch.log10(F/F.max())"
   ]
  },
  {
   "cell_type": "code",
   "execution_count": 222,
   "metadata": {},
   "outputs": [
    {
     "data": {
      "text/plain": [
       "tensor([0., 0., 0., 1., 0., 0., 1., 0.])"
      ]
     },
     "execution_count": 222,
     "metadata": {},
     "output_type": "execute_result"
    }
   ],
   "source": [
    "dna = torch.randint(0, 2, (NP, L, m, n)).to(dtype=torch.float)\n",
    "dna[0, :, 0, 0]"
   ]
  }
 ],
 "metadata": {
  "kernelspec": {
   "display_name": "suanfa",
   "language": "python",
   "name": "python3"
  },
  "language_info": {
   "codemirror_mode": {
    "name": "ipython",
    "version": 3
   },
   "file_extension": ".py",
   "mimetype": "text/x-python",
   "name": "python",
   "nbconvert_exporter": "python",
   "pygments_lexer": "ipython3",
   "version": "3.12.1"
  }
 },
 "nbformat": 4,
 "nbformat_minor": 2
}
