{
 "cells": [
  {
   "cell_type": "code",
   "execution_count": null,
   "metadata": {},
   "outputs": [],
   "source": [
    "import torch"
   ]
  },
  {
   "cell_type": "code",
   "execution_count": null,
   "metadata": {},
   "outputs": [],
   "source": [
    "theta_min = -90.0\n",
    "theta_max = 90.0\n",
    "(l, delta, theta_0) = (1, 360, 0)\n",
    "d = l/2\n",
    "G = 5\n",
    "NP = 100\n",
    "m = 1\n",
    "n = 1\n",
    "L = 20\n",
    "Pc = 0.8\n",
    "Pm = 0.050"
   ]
  },
  {
   "cell_type": "code",
   "execution_count": null,
   "metadata": {},
   "outputs": [],
   "source": [
    "dna = torch.randint(0, 2, (m, n, L)).to(dtype=torch.float)\n",
    "# dna"
   ]
  },
  {
   "cell_type": "code",
   "execution_count": null,
   "metadata": {},
   "outputs": [],
   "source": [
    "M = L\n",
    "ex = dna.reshape(M,)\n",
    "k = 2*torch.pi/l\n",
    "theta_0 = torch.tensor(theta_0)*torch.pi/180\n",
    "theta = torch.linspace(-torch.pi/2, torch.pi/2, delta)\n",
    "F = torch.zeros((delta,))"
   ]
  },
  {
   "cell_type": "code",
   "execution_count": null,
   "metadata": {},
   "outputs": [],
   "source": [
    "# phi (delta,1)\n",
    "phi = (torch.sin(theta)-torch.sin(theta_0)).reshape(delta,1)\n",
    "one = torch.ones()\n",
    "print(phi)\n",
    "# nd (M,1)\n",
    "nd = k*d*torch.arange(0, M)\n",
    "print(nd)\n",
    "# temp (delta,1)"
   ]
  }
 ],
 "metadata": {
  "kernelspec": {
   "display_name": "suanfa",
   "language": "python",
   "name": "python3"
  },
  "language_info": {
   "codemirror_mode": {
    "name": "ipython",
    "version": 3
   },
   "file_extension": ".py",
   "mimetype": "text/x-python",
   "name": "python",
   "nbconvert_exporter": "python",
   "pygments_lexer": "ipython3",
   "version": "3.12.2"
  }
 },
 "nbformat": 4,
 "nbformat_minor": 2
}
